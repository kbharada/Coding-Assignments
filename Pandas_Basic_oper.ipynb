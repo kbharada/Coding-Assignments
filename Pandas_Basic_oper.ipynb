{
 "cells": [
  {
   "cell_type": "markdown",
   "metadata": {},
   "source": [
    "### FInd the current working directory and chnage the path"
   ]
  },
  {
   "cell_type": "code",
   "execution_count": 9,
   "metadata": {},
   "outputs": [
    {
     "name": "stdout",
     "output_type": "stream",
     "text": [
      "Before :    C:\\Users\\Admin\n",
      "After :    C:\\Users\\Admin\\Downloads\\Pandas-Data-Science-Tasks-master\\Pandas-Data-Science-Tasks-master\\SalesAnalysis\\Sales_Data\n"
     ]
    }
   ],
   "source": [
    "import os\n",
    "print(\"Before : \", \"  \"  + os.getcwd())\n",
    "path='C:\\\\Users\\\\Admin\\\\Downloads\\\\Pandas-Data-Science-Tasks-master\\\\Pandas-Data-Science-Tasks-master\\\\SalesAnalysis\\\\Sales_Data'\n",
    "os.chdir(path)\n",
    "print(\"After : \", \"  \"  +os.getcwd())"
   ]
  },
  {
   "cell_type": "markdown",
   "metadata": {},
   "source": [
    "### List all the files in the target directory"
   ]
  },
  {
   "cell_type": "code",
   "execution_count": 14,
   "metadata": {},
   "outputs": [
    {
     "name": "stdout",
     "output_type": "stream",
     "text": [
      "all_data_copy.csv\n",
      "Sales_April_2019.csv\n",
      "Sales_August_2019.csv\n",
      "Sales_December_2019.csv\n",
      "Sales_February_2019.csv\n",
      "Sales_January_2019.csv\n",
      "Sales_July_2019.csv\n",
      "Sales_June_2019.csv\n",
      "Sales_March_2019.csv\n",
      "Sales_May_2019.csv\n",
      "Sales_November_2019.csv\n",
      "Sales_October_2019.csv\n",
      "Sales_September_2019.csv\n",
      "test.txt.txt\n"
     ]
    }
   ],
   "source": [
    "for file in os.listdir(path) :\n",
    "    print(file)"
   ]
  },
  {
   "cell_type": "markdown",
   "metadata": {},
   "source": [
    "### List all the files in the target directory based on file start name"
   ]
  },
  {
   "cell_type": "code",
   "execution_count": 97,
   "metadata": {},
   "outputs": [
    {
     "name": "stdout",
     "output_type": "stream",
     "text": [
      "Sales_April_2019.csv\n",
      "Sales_August_2019.csv\n",
      "Sales_December_2019.csv\n",
      "Sales_February_2019.csv\n",
      "Sales_January_2019.csv\n",
      "Sales_July_2019.csv\n",
      "Sales_June_2019.csv\n",
      "Sales_March_2019.csv\n",
      "Sales_May_2019.csv\n",
      "Sales_November_2019.csv\n",
      "Sales_October_2019.csv\n",
      "Sales_September_2019.csv\n"
     ]
    }
   ],
   "source": [
    "for file in os.listdir(path) :\n",
    "      if file.startswith(\"Sa\") :\n",
    "        print(file)"
   ]
  },
  {
   "cell_type": "markdown",
   "metadata": {},
   "source": [
    "### List all the files based on Perticular Extension ( in this case *.txt)"
   ]
  },
  {
   "cell_type": "code",
   "execution_count": 98,
   "metadata": {},
   "outputs": [
    {
     "name": "stdout",
     "output_type": "stream",
     "text": [
      "test.txt.txt\n"
     ]
    }
   ],
   "source": [
    "for file in os.listdir(path) :\n",
    "    if file.endswith('.txt') :\n",
    "        print(file)"
   ]
  },
  {
   "cell_type": "markdown",
   "metadata": {},
   "source": [
    "### Sort all the files based on the order modified / created"
   ]
  },
  {
   "cell_type": "markdown",
   "metadata": {},
   "source": [
    "## Approach : Collect files and dates in a list of tuples and sort that list by the date element"
   ]
  },
  {
   "cell_type": "code",
   "execution_count": 99,
   "metadata": {},
   "outputs": [
    {
     "name": "stdout",
     "output_type": "stream",
     "text": [
      "all_data_copy.csv\n",
      "kb1.xlsx\n",
      "Sales_April_2019.csv\n",
      "Sales_August_2019.csv\n",
      "Sales_December_2019.csv\n",
      "Sales_February_2019.csv\n",
      "Sales_January_2019.csv\n",
      "Sales_July_2019.csv\n",
      "Sales_June_2019.csv\n",
      "Sales_March_2019.csv\n",
      "Sales_May_2019.csv\n",
      "Sales_November_2019.csv\n",
      "Sales_October_2019.csv\n",
      "Sales_September_2019.csv\n",
      "test.txt.txt\n",
      "~$kb1.xlsx\n",
      "[('Sales_April_2019.csv', 1578917556.0), ('Sales_August_2019.csv', 1578917556.0), ('Sales_December_2019.csv', 1578917556.0), ('Sales_February_2019.csv', 1578917556.0), ('Sales_January_2019.csv', 1578917556.0), ('Sales_July_2019.csv', 1578917556.0), ('Sales_June_2019.csv', 1578917556.0), ('Sales_March_2019.csv', 1578917556.0), ('Sales_May_2019.csv', 1578917556.0), ('Sales_November_2019.csv', 1578917556.0), ('Sales_October_2019.csv', 1578917556.0), ('Sales_September_2019.csv', 1578917556.0), ('all_data_copy.csv', 1590299255.921434), ('test.txt.txt', 1590303200.9622498), ('~$kb1.xlsx', 1590305872.0604057), ('kb1.xlsx', 1590306370.4944417)]\n"
     ]
    }
   ],
   "source": [
    "# Original list\n",
    "for file in os.listdir(path) :\n",
    "    print(file)\n",
    "# finding the new sorted list \n",
    "# declare an empty list\n",
    "file_date_tuple_list = []\n",
    "for file in os.listdir(path) :\n",
    "    d = os.path.getmtime(file)\n",
    "    #tuple with file and date, add it in a list\n",
    "    file_date_tuple = (file,d)\n",
    "    #Now add thsi to the blankl list creared earlier\n",
    "    file_date_tuple_list.append(file_date_tuple)\n",
    "file_date_tuple_list.sort(key=lambda x: x[1])\n",
    "print(file_date_tuple_list)\n"
   ]
  },
  {
   "cell_type": "markdown",
   "metadata": {},
   "source": [
    "### List all the Sheets in excel"
   ]
  },
  {
   "cell_type": "code",
   "execution_count": 100,
   "metadata": {},
   "outputs": [
    {
     "name": "stdout",
     "output_type": "stream",
     "text": [
      "['Bday', 'Details']\n"
     ]
    }
   ],
   "source": [
    "import xlrd\n",
    "xls = xlrd.open_workbook(path + '\\\\' + 'kb1.xlsx')\n",
    "y=xls.sheet_names()\n",
    "print(y)"
   ]
  },
  {
   "cell_type": "markdown",
   "metadata": {},
   "source": [
    "### Print all columns in a specific sheet"
   ]
  },
  {
   "cell_type": "code",
   "execution_count": 101,
   "metadata": {},
   "outputs": [
    {
     "name": "stdout",
     "output_type": "stream",
     "text": [
      "['Bday', 'Details']\n"
     ]
    }
   ],
   "source": [
    "import xlrd\n",
    "xls = xlrd.open_workbook(path + '\\\\' + 'kb1.xlsx')\n",
    "y=xls.sheet_names()\n",
    "print(y)\n",
    "   "
   ]
  },
  {
   "cell_type": "markdown",
   "metadata": {},
   "source": [
    "### Print all columns in all the sheets in the workbook"
   ]
  },
  {
   "cell_type": "code",
   "execution_count": 102,
   "metadata": {},
   "outputs": [
    {
     "name": "stdout",
     "output_type": "stream",
     "text": [
      "Bday Index(['SL', 'Name', 'DATE', 'Status'], dtype='object')\n",
      "Details Index(['Last Name', 'Place '], dtype='object')\n"
     ]
    }
   ],
   "source": [
    "import xlrd\n",
    "import pandas as pd\n",
    "xls = xlrd.open_workbook(path + '\\\\' + 'kb1.xlsx')\n",
    "s_names=xls.sheet_names()\n",
    "#print(s_names)\n",
    "for i in range(len(s_names)) :\n",
    "    df = pd.read_excel(path + '\\\\' + 'kb1.xlsx', s_names[i])\n",
    "    print(s_names[i], df.columns)"
   ]
  },
  {
   "cell_type": "markdown",
   "metadata": {},
   "source": [
    "### Merge all the columns in excel"
   ]
  },
  {
   "cell_type": "code",
   "execution_count": 109,
   "metadata": {},
   "outputs": [
    {
     "name": "stdout",
     "output_type": "stream",
     "text": [
      "    SL      Name       DATE  Status   Last Name     Place \n",
      "0  1.0   karthik 2021-09-01     NaN         NaN        NaN\n",
      "1  2.0    Dyuthi 2020-03-01     NaN         NaN        NaN\n",
      "2  3.0   Shruthi 2017-08-01     NaN         NaN        NaN\n",
      "3  4.0   Vasudha 2023-10-01     NaN         NaN        NaN\n",
      "4  5.0  Subbanna 2020-11-09     NaN         NaN        NaN\n",
      "0  NaN       NaN        NaT     NaN   Bharadwaj  Bangalore\n",
      "1  NaN       NaN        NaT     NaN     karthik  Bangalore\n",
      "2  NaN       NaN        NaT     NaN  Sanadanada  Bangalore\n",
      "3  NaN       NaN        NaT     NaN          HS     Tiptur\n",
      "4  NaN       NaN        NaT     NaN    Subbanna        NaN\n"
     ]
    }
   ],
   "source": [
    "import xlrd\n",
    "import pandas as pd\n",
    "xls = xlrd.open_workbook(path + '\\\\' + 'kb1.xlsx')\n",
    "s_names=xls.sheet_names()\n",
    "#print(s_names)\n",
    "for i in range(len(s_names)) :\n",
    "    df1 = pd.read_excel(path + '\\\\' + 'kb1.xlsx', s_names[0])\n",
    "    df2 = pd.read_excel(path + '\\\\' + 'kb1.xlsx', s_names[1])\n",
    "all_Values = pd.concat([df1,df2])\n",
    "print(all_Values)"
   ]
  },
  {
   "cell_type": "markdown",
   "metadata": {},
   "source": [
    "### List all the null Values in a specific column"
   ]
  },
  {
   "cell_type": "code",
   "execution_count": 110,
   "metadata": {},
   "outputs": [
    {
     "name": "stdout",
     "output_type": "stream",
     "text": [
      "5\n"
     ]
    }
   ],
   "source": [
    "print(all_Values['Name'].isnull().sum())"
   ]
  },
  {
   "cell_type": "markdown",
   "metadata": {},
   "source": [
    "### List count of all the Null values iterating through the column length in excel"
   ]
  },
  {
   "cell_type": "code",
   "execution_count": 113,
   "metadata": {},
   "outputs": [
    {
     "name": "stdout",
     "output_type": "stream",
     "text": [
      "SL :  5\n",
      "Name :  5\n",
      "DATE :  5\n",
      "Status :  10\n",
      "Last Name :  5\n",
      "Place  :  6\n"
     ]
    }
   ],
   "source": [
    "for clm in all_Values :\n",
    "    print(clm, \": \", all_Values[clm].isnull().sum())\n",
    "    "
   ]
  },
  {
   "cell_type": "code",
   "execution_count": null,
   "metadata": {},
   "outputs": [],
   "source": []
  }
 ],
 "metadata": {
  "kernelspec": {
   "display_name": "Python 3",
   "language": "python",
   "name": "python3"
  },
  "language_info": {
   "codemirror_mode": {
    "name": "ipython",
    "version": 3
   },
   "file_extension": ".py",
   "mimetype": "text/x-python",
   "name": "python",
   "nbconvert_exporter": "python",
   "pygments_lexer": "ipython3",
   "version": "3.7.6"
  }
 },
 "nbformat": 4,
 "nbformat_minor": 4
}
